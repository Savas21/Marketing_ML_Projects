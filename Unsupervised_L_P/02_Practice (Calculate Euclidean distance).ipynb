{
 "cells": [
  {
   "cell_type": "code",
   "execution_count": 24,
   "metadata": {},
   "outputs": [],
   "source": [
    "import math\n",
    "import numpy as np"
   ]
  },
  {
   "cell_type": "code",
   "execution_count": 25,
   "metadata": {},
   "outputs": [],
   "source": [
    "ages=[40,40,30]\n",
    "incomes =[40000,30000,40000]"
   ]
  },
  {
   "cell_type": "code",
   "execution_count": 26,
   "metadata": {},
   "outputs": [
    {
     "name": "stdout",
     "output_type": "stream",
     "text": [
      "10000.0\n",
      "10.0\n"
     ]
    }
   ],
   "source": [
    "# find the distance between first person and second\n",
    "distance_1and2 = math.sqrt((ages[0]-ages[1])**2 + (income[0]-incomes[1])**2)\n",
    "distance_1and3 = math.sqrt((ages[0]-ages[2])**2 + (income[0]-incomes[2])**2)\n",
    "\n",
    "print(distance_1and2)\n",
    "print(distance_1and3)"
   ]
  },
  {
   "cell_type": "code",
   "execution_count": 29,
   "metadata": {},
   "outputs": [],
   "source": [
    "# find the standardized distance\n",
    "z_ages = [(age - np.mean(ages))/np.std(ages) for age in ages]\n",
    "z_income = [(income - np.mean(incomes))/np.std(incomes) for income in incomes]"
   ]
  },
  {
   "cell_type": "code",
   "execution_count": 30,
   "metadata": {},
   "outputs": [
    {
     "data": {
      "text/plain": [
       "[0.707106781186548, -1.4142135623730945, 0.707106781186548]"
      ]
     },
     "execution_count": 30,
     "metadata": {},
     "output_type": "execute_result"
    }
   ],
   "source": [
    "z_income"
   ]
  },
  {
   "cell_type": "code",
   "execution_count": 33,
   "metadata": {},
   "outputs": [
    {
     "name": "stdout",
     "output_type": "stream",
     "text": [
      "2.1213203435596424\n",
      "2.1213203435596424\n"
     ]
    }
   ],
   "source": [
    "# calculated standardized distance\n",
    "Zdistance_1and2 = math.sqrt((z_ages[0]-z_ages[1])**2 + (z_income[0]-z_income[1])**2)\n",
    "Zdistance_1and3 = math.sqrt((z_ages[0]-z_ages[2])**2 + (z_income[0]-z_income[2])**2)\n",
    "print(Zdistance_1and2)\n",
    "print(Zdistance_1and3)"
   ]
  },
  {
   "cell_type": "code",
   "execution_count": null,
   "metadata": {},
   "outputs": [],
   "source": []
  }
 ],
 "metadata": {
  "kernelspec": {
   "display_name": "Python 3",
   "language": "python",
   "name": "python3"
  },
  "language_info": {
   "codemirror_mode": {
    "name": "ipython",
    "version": 3
   },
   "file_extension": ".py",
   "mimetype": "text/x-python",
   "name": "python",
   "nbconvert_exporter": "python",
   "pygments_lexer": "ipython3",
   "version": "3.6.4"
  }
 },
 "nbformat": 4,
 "nbformat_minor": 2
}
